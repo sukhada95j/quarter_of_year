{
  "nbformat": 4,
  "nbformat_minor": 0,
  "metadata": {
    "colab": {
      "provenance": []
    },
    "kernelspec": {
      "name": "python3",
      "display_name": "Python 3"
    },
    "language_info": {
      "name": "python"
    }
  },
  "cells": [
    {
      "cell_type": "code",
      "source": [
        "def quarter_of(month):\n",
        "        if month<=3:\n",
        "            return 1\n",
        "        elif month>=4 and  month<=6:\n",
        "            return 2\n",
        "        elif month<=9:\n",
        "            return 3\n",
        "        else:\n",
        "            return 4\n",
        "quarter_of(12)"
      ],
      "metadata": {
        "colab": {
          "base_uri": "https://localhost:8080/"
        },
        "id": "1vkwedoaH5Xu",
        "outputId": "84c36a65-df7d-4ca8-c9d4-f536587ba819"
      },
      "execution_count": 5,
      "outputs": [
        {
          "output_type": "execute_result",
          "data": {
            "text/plain": [
              "4"
            ]
          },
          "metadata": {},
          "execution_count": 5
        }
      ]
    }
  ]
}